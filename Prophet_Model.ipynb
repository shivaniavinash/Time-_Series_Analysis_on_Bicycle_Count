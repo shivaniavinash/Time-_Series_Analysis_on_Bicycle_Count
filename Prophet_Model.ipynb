{
  "cells": [
    {
      "cell_type": "code",
      "execution_count": null,
      "metadata": {
        "id": "v7CkmEvzqdcw"
      },
      "outputs": [],
      "source": [
        "import pandas as pd\n",
        "import numpy as np\n",
        "import matplotlib.pyplot as plt\n",
        "import seaborn\n",
        "import statsmodels.tsa.api as smt\n",
        "import statsmodels.api as sm\n",
        "from matplotlib import pyplot\n",
        "from pandas import to_datetime\n",
        "from sklearn.metrics import r2_score, median_absolute_error, mean_absolute_error, median_absolute_error\n",
        "from sklearn.metrics import  mean_squared_error, mean_squared_log_error,mean_absolute_percentage_error"
      ]
    },
    {
      "cell_type": "code",
      "execution_count": null,
      "metadata": {
        "colab": {
          "base_uri": "https://localhost:8080/"
        },
        "id": "oOkVP9zzqtPU",
        "outputId": "9ce57c98-0321-42f7-c639-63f137b45865"
      },
      "outputs": [
        {
          "name": "stdout",
          "output_type": "stream",
          "text": [
            "Requirement already satisfied: prophet in c:\\users\\ajay\\anaconda3\\lib\\site-packages (1.1.1)\n",
            "Requirement already satisfied: cmdstanpy>=1.0.4 in c:\\users\\ajay\\anaconda3\\lib\\site-packages (from prophet) (1.0.7)\n",
            "Requirement already satisfied: tqdm>=4.36.1 in c:\\users\\ajay\\anaconda3\\lib\\site-packages (from prophet) (4.64.0)\n",
            "Requirement already satisfied: setuptools>=42 in c:\\users\\ajay\\anaconda3\\lib\\site-packages (from prophet) (61.2.0)\n",
            "Requirement already satisfied: LunarCalendar>=0.0.9 in c:\\users\\ajay\\anaconda3\\lib\\site-packages (from prophet) (0.0.9)\n",
            "Requirement already satisfied: holidays>=0.14.2 in c:\\users\\ajay\\anaconda3\\lib\\site-packages (from prophet) (0.16)\n",
            "Requirement already satisfied: python-dateutil>=2.8.0 in c:\\users\\ajay\\anaconda3\\lib\\site-packages (from prophet) (2.8.2)\n",
            "Requirement already satisfied: convertdate>=2.1.2 in c:\\users\\ajay\\anaconda3\\lib\\site-packages (from prophet) (2.4.0)Note: you may need to restart the kernel to use updated packages.\n",
            "\n",
            "Requirement already satisfied: pandas>=1.0.4 in c:\\users\\ajay\\anaconda3\\lib\\site-packages (from prophet) (1.4.2)\n",
            "Requirement already satisfied: wheel>=0.37.0 in c:\\users\\ajay\\anaconda3\\lib\\site-packages (from prophet) (0.37.1)\n",
            "Requirement already satisfied: numpy>=1.15.4 in c:\\users\\ajay\\anaconda3\\lib\\site-packages (from prophet) (1.21.5)\n",
            "Requirement already satisfied: matplotlib>=2.0.0 in c:\\users\\ajay\\anaconda3\\lib\\site-packages (from prophet) (3.5.1)\n",
            "Requirement already satisfied: setuptools-git>=1.2 in c:\\users\\ajay\\anaconda3\\lib\\site-packages (from prophet) (1.2)\n",
            "Requirement already satisfied: ujson in c:\\users\\ajay\\anaconda3\\lib\\site-packages (from cmdstanpy>=1.0.4->prophet) (5.1.0)\n",
            "Requirement already satisfied: pymeeus<=1,>=0.3.13 in c:\\users\\ajay\\anaconda3\\lib\\site-packages (from convertdate>=2.1.2->prophet) (0.5.11)\n",
            "Requirement already satisfied: hijri-converter in c:\\users\\ajay\\anaconda3\\lib\\site-packages (from holidays>=0.14.2->prophet) (2.2.4)\n",
            "Requirement already satisfied: korean-lunar-calendar in c:\\users\\ajay\\anaconda3\\lib\\site-packages (from holidays>=0.14.2->prophet) (0.3.1)\n",
            "Requirement already satisfied: pytz in c:\\users\\ajay\\anaconda3\\lib\\site-packages (from LunarCalendar>=0.0.9->prophet) (2021.3)\n",
            "Requirement already satisfied: ephem>=3.7.5.3 in c:\\users\\ajay\\anaconda3\\lib\\site-packages (from LunarCalendar>=0.0.9->prophet) (4.1.3)\n",
            "Requirement already satisfied: cycler>=0.10 in c:\\users\\ajay\\anaconda3\\lib\\site-packages (from matplotlib>=2.0.0->prophet) (0.11.0)\n",
            "Requirement already satisfied: kiwisolver>=1.0.1 in c:\\users\\ajay\\anaconda3\\lib\\site-packages (from matplotlib>=2.0.0->prophet) (1.3.2)\n",
            "Requirement already satisfied: packaging>=20.0 in c:\\users\\ajay\\anaconda3\\lib\\site-packages (from matplotlib>=2.0.0->prophet) (21.3)\n",
            "Requirement already satisfied: pillow>=6.2.0 in c:\\users\\ajay\\anaconda3\\lib\\site-packages (from matplotlib>=2.0.0->prophet) (9.0.1)\n",
            "Requirement already satisfied: fonttools>=4.22.0 in c:\\users\\ajay\\anaconda3\\lib\\site-packages (from matplotlib>=2.0.0->prophet) (4.25.0)\n",
            "Requirement already satisfied: pyparsing>=2.2.1 in c:\\users\\ajay\\anaconda3\\lib\\site-packages (from matplotlib>=2.0.0->prophet) (3.0.4)\n",
            "Requirement already satisfied: six>=1.5 in c:\\users\\ajay\\anaconda3\\lib\\site-packages (from python-dateutil>=2.8.0->prophet) (1.16.0)\n",
            "Requirement already satisfied: colorama in c:\\users\\ajay\\anaconda3\\lib\\site-packages (from tqdm>=4.36.1->prophet) (0.4.4)\n"
          ]
        }
      ],
      "source": [
        "pip install prophet"
      ]
    },
    {
      "cell_type": "code",
      "execution_count": null,
      "metadata": {
        "colab": {
          "base_uri": "https://localhost:8080/"
        },
        "id": "qQUvcMEhqfR7",
        "outputId": "6c7c8ab3-fb45-4bc7-ea69-06f18424333b"
      },
      "outputs": [
        {
          "name": "stdout",
          "output_type": "stream",
          "text": [
            "Prophet 1.1.1\n"
          ]
        }
      ],
      "source": [
        "import prophet\n",
        "# print version number\n",
        "print('Prophet %s' %prophet.__version__)"
      ]
    },
    {
      "cell_type": "markdown",
      "metadata": {
        "id": "G_at1FmsiQ05"
      },
      "source": [
        "# Loading dataset"
      ]
    },
    {
      "cell_type": "code",
      "execution_count": null,
      "metadata": {
        "id": "FvfZ4v_Fzvvp"
      },
      "outputs": [],
      "source": [
        "path = 'F:/Study Material/Project_Data/fremont-bridge.csv'"
      ]
    },
    {
      "cell_type": "code",
      "execution_count": null,
      "metadata": {
        "colab": {
          "base_uri": "https://localhost:8080/",
          "height": 424
        },
        "id": "Zmt_neEk0AUe",
        "outputId": "99fe4ec9-c12f-49e0-9ad8-f851e2cedc45"
      },
      "outputs": [
        {
          "data": {
            "text/html": [
              "<div>\n",
              "<style scoped>\n",
              "    .dataframe tbody tr th:only-of-type {\n",
              "        vertical-align: middle;\n",
              "    }\n",
              "\n",
              "    .dataframe tbody tr th {\n",
              "        vertical-align: top;\n",
              "    }\n",
              "\n",
              "    .dataframe thead th {\n",
              "        text-align: right;\n",
              "    }\n",
              "</style>\n",
              "<table border=\"1\" class=\"dataframe\">\n",
              "  <thead>\n",
              "    <tr style=\"text-align: right;\">\n",
              "      <th></th>\n",
              "      <th>Date</th>\n",
              "      <th>West</th>\n",
              "      <th>East</th>\n",
              "    </tr>\n",
              "  </thead>\n",
              "  <tbody>\n",
              "    <tr>\n",
              "      <th>0</th>\n",
              "      <td>10-03-2012 00:00</td>\n",
              "      <td>4.0</td>\n",
              "      <td>9.0</td>\n",
              "    </tr>\n",
              "    <tr>\n",
              "      <th>1</th>\n",
              "      <td>10-03-2012 01:00</td>\n",
              "      <td>4.0</td>\n",
              "      <td>6.0</td>\n",
              "    </tr>\n",
              "    <tr>\n",
              "      <th>2</th>\n",
              "      <td>10-03-2012 02:00</td>\n",
              "      <td>1.0</td>\n",
              "      <td>1.0</td>\n",
              "    </tr>\n",
              "    <tr>\n",
              "      <th>3</th>\n",
              "      <td>10-03-2012 03:00</td>\n",
              "      <td>2.0</td>\n",
              "      <td>3.0</td>\n",
              "    </tr>\n",
              "    <tr>\n",
              "      <th>4</th>\n",
              "      <td>10-03-2012 04:00</td>\n",
              "      <td>6.0</td>\n",
              "      <td>1.0</td>\n",
              "    </tr>\n",
              "    <tr>\n",
              "      <th>...</th>\n",
              "      <td>...</td>\n",
              "      <td>...</td>\n",
              "      <td>...</td>\n",
              "    </tr>\n",
              "    <tr>\n",
              "      <th>45979</th>\n",
              "      <td>12-31-2017 19:00</td>\n",
              "      <td>9.0</td>\n",
              "      <td>12.0</td>\n",
              "    </tr>\n",
              "    <tr>\n",
              "      <th>45980</th>\n",
              "      <td>12-31-2017 20:00</td>\n",
              "      <td>6.0</td>\n",
              "      <td>8.0</td>\n",
              "    </tr>\n",
              "    <tr>\n",
              "      <th>45981</th>\n",
              "      <td>12-31-2017 21:00</td>\n",
              "      <td>3.0</td>\n",
              "      <td>10.0</td>\n",
              "    </tr>\n",
              "    <tr>\n",
              "      <th>45982</th>\n",
              "      <td>12-31-2017 22:00</td>\n",
              "      <td>7.0</td>\n",
              "      <td>6.0</td>\n",
              "    </tr>\n",
              "    <tr>\n",
              "      <th>45983</th>\n",
              "      <td>12-31-2017 23:00</td>\n",
              "      <td>7.0</td>\n",
              "      <td>9.0</td>\n",
              "    </tr>\n",
              "  </tbody>\n",
              "</table>\n",
              "<p>45984 rows × 3 columns</p>\n",
              "</div>"
            ],
            "text/plain": [
              "                   Date  West  East\n",
              "0      10-03-2012 00:00   4.0   9.0\n",
              "1      10-03-2012 01:00   4.0   6.0\n",
              "2      10-03-2012 02:00   1.0   1.0\n",
              "3      10-03-2012 03:00   2.0   3.0\n",
              "4      10-03-2012 04:00   6.0   1.0\n",
              "...                 ...   ...   ...\n",
              "45979  12-31-2017 19:00   9.0  12.0\n",
              "45980  12-31-2017 20:00   6.0   8.0\n",
              "45981  12-31-2017 21:00   3.0  10.0\n",
              "45982  12-31-2017 22:00   7.0   6.0\n",
              "45983  12-31-2017 23:00   7.0   9.0\n",
              "\n",
              "[45984 rows x 3 columns]"
            ]
          },
          "execution_count": 109,
          "metadata": {},
          "output_type": "execute_result"
        }
      ],
      "source": [
        "df =pd.read_csv(path, header=0)\n",
        "df"
      ]
    },
    {
      "cell_type": "markdown",
      "metadata": {
        "id": "caXd4tZ2iQ1K"
      },
      "source": [
        "# Data Preprocessing"
      ]
    },
    {
      "cell_type": "code",
      "execution_count": null,
      "metadata": {
        "colab": {
          "base_uri": "https://localhost:8080/"
        },
        "id": "4eIokOkjH8KW",
        "outputId": "ac311411-2077-4778-a4cf-652474610bf4"
      },
      "outputs": [
        {
          "data": {
            "text/plain": [
              "Date    0\n",
              "West    8\n",
              "East    8\n",
              "dtype: int64"
            ]
          },
          "execution_count": 110,
          "metadata": {},
          "output_type": "execute_result"
        }
      ],
      "source": [
        "df.isnull().sum()"
      ]
    },
    {
      "cell_type": "code",
      "execution_count": null,
      "metadata": {
        "id": "821lynzxH_tS"
      },
      "outputs": [],
      "source": [
        "df.fillna(method='ffill', inplace=True)"
      ]
    },
    {
      "cell_type": "code",
      "execution_count": null,
      "metadata": {
        "id": "ILh_cH9X0eao"
      },
      "outputs": [],
      "source": [
        "df['Total']=df['East']+df['West']"
      ]
    },
    {
      "cell_type": "code",
      "execution_count": null,
      "metadata": {
        "id": "luN8CfmO9-8g",
        "outputId": "89292397-1525-4295-e24f-5c0bbff32e62"
      },
      "outputs": [
        {
          "data": {
            "text/plain": [
              "0        13.0\n",
              "1        10.0\n",
              "2         2.0\n",
              "3         5.0\n",
              "4         7.0\n",
              "         ... \n",
              "45979    21.0\n",
              "45980    14.0\n",
              "45981    13.0\n",
              "45982    13.0\n",
              "45983    16.0\n",
              "Name: Total, Length: 45984, dtype: float64"
            ]
          },
          "execution_count": 113,
          "metadata": {},
          "output_type": "execute_result"
        }
      ],
      "source": [
        "df['Total']"
      ]
    },
    {
      "cell_type": "code",
      "execution_count": null,
      "metadata": {
        "id": "dJkKgq1U0jk-",
        "outputId": "d37d5e34-70a7-4c14-db34-62bb5c5795b0"
      },
      "outputs": [
        {
          "data": {
            "text/html": [
              "<div>\n",
              "<style scoped>\n",
              "    .dataframe tbody tr th:only-of-type {\n",
              "        vertical-align: middle;\n",
              "    }\n",
              "\n",
              "    .dataframe tbody tr th {\n",
              "        vertical-align: top;\n",
              "    }\n",
              "\n",
              "    .dataframe thead th {\n",
              "        text-align: right;\n",
              "    }\n",
              "</style>\n",
              "<table border=\"1\" class=\"dataframe\">\n",
              "  <thead>\n",
              "    <tr style=\"text-align: right;\">\n",
              "      <th></th>\n",
              "      <th>Date</th>\n",
              "      <th>West</th>\n",
              "      <th>East</th>\n",
              "      <th>Total</th>\n",
              "    </tr>\n",
              "  </thead>\n",
              "  <tbody>\n",
              "    <tr>\n",
              "      <th>0</th>\n",
              "      <td>10-03-2012 00:00</td>\n",
              "      <td>4.0</td>\n",
              "      <td>9.0</td>\n",
              "      <td>13.0</td>\n",
              "    </tr>\n",
              "    <tr>\n",
              "      <th>1</th>\n",
              "      <td>10-03-2012 01:00</td>\n",
              "      <td>4.0</td>\n",
              "      <td>6.0</td>\n",
              "      <td>10.0</td>\n",
              "    </tr>\n",
              "    <tr>\n",
              "      <th>2</th>\n",
              "      <td>10-03-2012 02:00</td>\n",
              "      <td>1.0</td>\n",
              "      <td>1.0</td>\n",
              "      <td>2.0</td>\n",
              "    </tr>\n",
              "    <tr>\n",
              "      <th>3</th>\n",
              "      <td>10-03-2012 03:00</td>\n",
              "      <td>2.0</td>\n",
              "      <td>3.0</td>\n",
              "      <td>5.0</td>\n",
              "    </tr>\n",
              "    <tr>\n",
              "      <th>4</th>\n",
              "      <td>10-03-2012 04:00</td>\n",
              "      <td>6.0</td>\n",
              "      <td>1.0</td>\n",
              "      <td>7.0</td>\n",
              "    </tr>\n",
              "  </tbody>\n",
              "</table>\n",
              "</div>"
            ],
            "text/plain": [
              "               Date  West  East  Total\n",
              "0  10-03-2012 00:00   4.0   9.0   13.0\n",
              "1  10-03-2012 01:00   4.0   6.0   10.0\n",
              "2  10-03-2012 02:00   1.0   1.0    2.0\n",
              "3  10-03-2012 03:00   2.0   3.0    5.0\n",
              "4  10-03-2012 04:00   6.0   1.0    7.0"
            ]
          },
          "execution_count": 114,
          "metadata": {},
          "output_type": "execute_result"
        }
      ],
      "source": [
        "df.head()"
      ]
    },
    {
      "cell_type": "code",
      "execution_count": null,
      "metadata": {
        "id": "i8vA44ST0u8b"
      },
      "outputs": [],
      "source": [
        "df.drop([\"West\",\"East\"],axis=1,inplace=True)"
      ]
    },
    {
      "cell_type": "markdown",
      "metadata": {
        "id": "fU9HV_WjiQ1z"
      },
      "source": [
        "# Plot the time series"
      ]
    },
    {
      "cell_type": "code",
      "execution_count": null,
      "metadata": {
        "id": "WyE46ltD0Mr_",
        "outputId": "53216990-8a8a-40ea-8396-6ca422fb3436"
      },
      "outputs": [
        {
          "data": {
            "image/png": "[encoded data removed]",
            "text/plain": [
              "<Figure size 432x288 with 1 Axes>"
            ]
          },
          "metadata": {
            "needs_background": "light"
          },
          "output_type": "display_data"
        }
      ],
      "source": [
        "df.plot()\n",
        "pyplot.show()"
      ]
    },
    {
      "cell_type": "markdown",
      "metadata": {
        "id": "kRox1k30iQ15"
      },
      "source": [
        "# Prepare expected column names"
      ]
    },
    {
      "cell_type": "code",
      "execution_count": null,
      "metadata": {
        "id": "H1EgLKt302Dq"
      },
      "outputs": [],
      "source": [
        "df.columns = ['ds', 'y']\n",
        "df['ds']= to_datetime(df['ds'])"
      ]
    },
    {
      "cell_type": "code",
      "execution_count": null,
      "metadata": {
        "id": "QDjjl2Jp1554"
      },
      "outputs": [],
      "source": [
        "from prophet import Prophet"
      ]
    },
    {
      "cell_type": "code",
      "execution_count": null,
      "metadata": {
        "id": "M8PgFl3R1dT5"
      },
      "outputs": [],
      "source": [
        "# define the model\n",
        "model = Prophet()\n"
      ]
    },
    {
      "cell_type": "code",
      "execution_count": null,
      "metadata": {
        "colab": {
          "base_uri": "https://localhost:8080/"
        },
        "id": "zXPy25d31jM_",
        "outputId": "0853c608-b154-45e6-9b26-2457a94dd5cb"
      },
      "outputs": [
        {
          "name": "stderr",
          "output_type": "stream",
          "text": [
            "00:53:42 - cmdstanpy - INFO - Chain [1] start processing\n",
            "00:53:53 - cmdstanpy - INFO - Chain [1] done processing\n"
          ]
        },
        {
          "data": {
            "text/plain": [
              "<prophet.forecaster.Prophet at 0x1f1e3722430>"
            ]
          },
          "execution_count": 120,
          "metadata": {},
          "output_type": "execute_result"
        }
      ],
      "source": [
        "# fit the model\n",
        "model.fit(df)"
      ]
    },
    {
      "cell_type": "code",
      "execution_count": null,
      "metadata": {
        "id": "MY3lk3YIiQ2G",
        "outputId": "a6189d0d-2b95-4b4a-fb8f-656c71c9ad62"
      },
      "outputs": [
        {
          "data": {
            "text/html": [
              "<div>\n",
              "<style scoped>\n",
              "    .dataframe tbody tr th:only-of-type {\n",
              "        vertical-align: middle;\n",
              "    }\n",
              "\n",
              "    .dataframe tbody tr th {\n",
              "        vertical-align: top;\n",
              "    }\n",
              "\n",
              "    .dataframe thead th {\n",
              "        text-align: right;\n",
              "    }\n",
              "</style>\n",
              "<table border=\"1\" class=\"dataframe\">\n",
              "  <thead>\n",
              "    <tr style=\"text-align: right;\">\n",
              "      <th></th>\n",
              "      <th>ds</th>\n",
              "      <th>y</th>\n",
              "    </tr>\n",
              "  </thead>\n",
              "  <tbody>\n",
              "    <tr>\n",
              "      <th>45979</th>\n",
              "      <td>2017-12-31 19:00:00</td>\n",
              "      <td>21.0</td>\n",
              "    </tr>\n",
              "    <tr>\n",
              "      <th>45980</th>\n",
              "      <td>2017-12-31 20:00:00</td>\n",
              "      <td>14.0</td>\n",
              "    </tr>\n",
              "    <tr>\n",
              "      <th>45981</th>\n",
              "      <td>2017-12-31 21:00:00</td>\n",
              "      <td>13.0</td>\n",
              "    </tr>\n",
              "    <tr>\n",
              "      <th>45982</th>\n",
              "      <td>2017-12-31 22:00:00</td>\n",
              "      <td>13.0</td>\n",
              "    </tr>\n",
              "    <tr>\n",
              "      <th>45983</th>\n",
              "      <td>2017-12-31 23:00:00</td>\n",
              "      <td>16.0</td>\n",
              "    </tr>\n",
              "  </tbody>\n",
              "</table>\n",
              "</div>"
            ],
            "text/plain": [
              "                       ds     y\n",
              "45979 2017-12-31 19:00:00  21.0\n",
              "45980 2017-12-31 20:00:00  14.0\n",
              "45981 2017-12-31 21:00:00  13.0\n",
              "45982 2017-12-31 22:00:00  13.0\n",
              "45983 2017-12-31 23:00:00  16.0"
            ]
          },
          "execution_count": 173,
          "metadata": {},
          "output_type": "execute_result"
        }
      ],
      "source": [
        "# create test dataset, remove last 12 months\n",
        "test = df[-8760:]\n",
        "test.tail()"
      ]
    },
    {
      "cell_type": "code",
      "execution_count": null,
      "metadata": {
        "id": "jAZmmuGriQ2K"
      },
      "outputs": [],
      "source": [
        "future = test"
      ]
    },
    {
      "cell_type": "code",
      "execution_count": null,
      "metadata": {
        "id": "6NpOeOwyiQ2M"
      },
      "outputs": [],
      "source": [
        "future = pd.DataFrame(future)\n",
        "future.columns = ['ds','y']\n",
        "future['ds']= to_datetime(future['ds'])"
      ]
    },
    {
      "cell_type": "code",
      "execution_count": null,
      "metadata": {
        "colab": {
          "base_uri": "https://localhost:8080/"
        },
        "id": "6-8eGJf2EMpM",
        "outputId": "732579bd-5aec-445d-af76-283073b15d70"
      },
      "outputs": [
        {
          "data": {
            "text/plain": [
              "37224   2017-01-01 00:00:00\n",
              "37225   2017-01-01 01:00:00\n",
              "37226   2017-01-01 02:00:00\n",
              "37227   2017-01-01 03:00:00\n",
              "37228   2017-01-01 04:00:00\n",
              "                ...        \n",
              "45979   2017-12-31 19:00:00\n",
              "45980   2017-12-31 20:00:00\n",
              "45981   2017-12-31 21:00:00\n",
              "45982   2017-12-31 22:00:00\n",
              "45983   2017-12-31 23:00:00\n",
              "Name: ds, Length: 8760, dtype: datetime64[ns]"
            ]
          },
          "execution_count": 125,
          "metadata": {},
          "output_type": "execute_result"
        }
      ],
      "source": [
        "future['ds']"
      ]
    },
    {
      "cell_type": "code",
      "execution_count": null,
      "metadata": {
        "id": "Imiyb1VM8Lig"
      },
      "outputs": [],
      "source": [
        "forecast = model.predict(future)"
      ]
    },
    {
      "cell_type": "code",
      "execution_count": null,
      "metadata": {
        "colab": {
          "base_uri": "https://localhost:8080/"
        },
        "id": "Vxq0TzWe7BQq",
        "outputId": "e433392e-f3f7-4703-955e-77da43e190f7"
      },
      "outputs": [
        {
          "name": "stdout",
          "output_type": "stream",
          "text": [
            "                      ds        yhat  yhat_lower  yhat_upper\n",
            "0    2017-01-01 00:00:00  -95.883631 -204.514466   18.999784\n",
            "1    2017-01-01 01:00:00 -102.953813 -220.227419   10.614349\n",
            "2    2017-01-01 02:00:00 -133.042535 -244.606117   -8.941779\n",
            "3    2017-01-01 03:00:00 -157.329980 -274.418506  -44.655121\n",
            "4    2017-01-01 04:00:00 -142.655914 -259.949370  -31.097912\n",
            "...                  ...         ...         ...         ...\n",
            "8755 2017-12-31 19:00:00  100.215170   -4.498338  215.464015\n",
            "8756 2017-12-31 20:00:00   12.435235  -99.073466  127.697802\n",
            "8757 2017-12-31 21:00:00  -52.169135 -168.089021   74.577401\n",
            "8758 2017-12-31 22:00:00  -71.033718 -195.991971   48.790210\n",
            "8759 2017-12-31 23:00:00  -54.102552 -169.666988   56.503741\n",
            "\n",
            "[8760 rows x 4 columns]\n",
            "<class 'pandas.core.frame.DataFrame'>\n",
            "RangeIndex: 8760 entries, 0 to 8759\n",
            "Data columns (total 22 columns):\n",
            " #   Column                      Non-Null Count  Dtype         \n",
            "---  ------                      --------------  -----         \n",
            " 0   ds                          8760 non-null   datetime64[ns]\n",
            " 1   trend                       8760 non-null   float64       \n",
            " 2   yhat_lower                  8760 non-null   float64       \n",
            " 3   yhat_upper                  8760 non-null   float64       \n",
            " 4   trend_lower                 8760 non-null   float64       \n",
            " 5   trend_upper                 8760 non-null   float64       \n",
            " 6   additive_terms              8760 non-null   float64       \n",
            " 7   additive_terms_lower        8760 non-null   float64       \n",
            " 8   additive_terms_upper        8760 non-null   float64       \n",
            " 9   daily                       8760 non-null   float64       \n",
            " 10  daily_lower                 8760 non-null   float64       \n",
            " 11  daily_upper                 8760 non-null   float64       \n",
            " 12  weekly                      8760 non-null   float64       \n",
            " 13  weekly_lower                8760 non-null   float64       \n",
            " 14  weekly_upper                8760 non-null   float64       \n",
            " 15  yearly                      8760 non-null   float64       \n",
            " 16  yearly_lower                8760 non-null   float64       \n",
            " 17  yearly_upper                8760 non-null   float64       \n",
            " 18  multiplicative_terms        8760 non-null   float64       \n",
            " 19  multiplicative_terms_lower  8760 non-null   float64       \n",
            " 20  multiplicative_terms_upper  8760 non-null   float64       \n",
            " 21  yhat                        8760 non-null   float64       \n",
            "dtypes: datetime64[ns](1), float64(21)\n",
            "memory usage: 1.5 MB\n"
          ]
        }
      ],
      "source": [
        "# summarize the forecast\n",
        "print(forecast[['ds', 'yhat', 'yhat_lower', 'yhat_upper']])\n",
        "forecast.info()"
      ]
    },
    {
      "cell_type": "code",
      "execution_count": null,
      "metadata": {
        "colab": {
          "base_uri": "https://localhost:8080/"
        },
        "id": "dkNE2nwE_dU-",
        "outputId": "db0ea3b7-43d6-4956-abe8-2b909723f451"
      },
      "outputs": [
        {
          "name": "stdout",
          "output_type": "stream",
          "text": [
            "37224     5.0\n",
            "37225    19.0\n",
            "37226     1.0\n",
            "37227     2.0\n",
            "37228     1.0\n",
            "         ... \n",
            "45979    21.0\n",
            "45980    14.0\n",
            "45981    13.0\n",
            "45982    13.0\n",
            "45983    16.0\n",
            "Name: y, Length: 8760, dtype: float64 0       -95.883631\n",
            "1      -102.953813\n",
            "2      -133.042535\n",
            "3      -157.329980\n",
            "4      -142.655914\n",
            "           ...    \n",
            "8755    100.215170\n",
            "8756     12.435235\n",
            "8757    -52.169135\n",
            "8758    -71.033718\n",
            "8759    -54.102552\n",
            "Name: yhat, Length: 8760, dtype: float64\n"
          ]
        }
      ],
      "source": [
        "print(test['y'],forecast['yhat'])"
      ]
    },
    {
      "cell_type": "code",
      "execution_count": null,
      "metadata": {
        "id": "F-lDhsPNiQ2b",
        "outputId": "534a083d-3734-49f2-da82-86bf061225ff"
      },
      "outputs": [
        {
          "data": {
            "text/plain": [
              "0        5.0\n",
              "1       19.0\n",
              "2        1.0\n",
              "3        2.0\n",
              "4        1.0\n",
              "        ... \n",
              "8755    21.0\n",
              "8756    14.0\n",
              "8757    13.0\n",
              "8758    13.0\n",
              "8759    16.0\n",
              "Name: y, Length: 8760, dtype: float64"
            ]
          },
          "execution_count": 175,
          "metadata": {},
          "output_type": "execute_result"
        }
      ],
      "source": [
        "test.set_index('y',inplace = True)\n",
        "test=test.reset_index()['y']\n",
        "test"
      ]
    },
    {
      "cell_type": "code",
      "execution_count": null,
      "metadata": {
        "id": "nvro4aX8iQ2c"
      },
      "outputs": [],
      "source": [
        "forecast['test']=test"
      ]
    },
    {
      "cell_type": "code",
      "execution_count": null,
      "metadata": {
        "id": "rh2eB8iniQ2e",
        "outputId": "e2e04059-c8cb-47e5-8c67-90c8f9a168cc"
      },
      "outputs": [
        {
          "name": "stdout",
          "output_type": "stream",
          "text": [
            "<class 'pandas.core.frame.DataFrame'>\n",
            "RangeIndex: 8760 entries, 0 to 8759\n",
            "Data columns (total 23 columns):\n",
            " #   Column                      Non-Null Count  Dtype         \n",
            "---  ------                      --------------  -----         \n",
            " 0   ds                          8760 non-null   datetime64[ns]\n",
            " 1   trend                       8760 non-null   float64       \n",
            " 2   yhat_lower                  8760 non-null   float64       \n",
            " 3   yhat_upper                  8760 non-null   float64       \n",
            " 4   trend_lower                 8760 non-null   float64       \n",
            " 5   trend_upper                 8760 non-null   float64       \n",
            " 6   additive_terms              8760 non-null   float64       \n",
            " 7   additive_terms_lower        8760 non-null   float64       \n",
            " 8   additive_terms_upper        8760 non-null   float64       \n",
            " 9   daily                       8760 non-null   float64       \n",
            " 10  daily_lower                 8760 non-null   float64       \n",
            " 11  daily_upper                 8760 non-null   float64       \n",
            " 12  weekly                      8760 non-null   float64       \n",
            " 13  weekly_lower                8760 non-null   float64       \n",
            " 14  weekly_upper                8760 non-null   float64       \n",
            " 15  yearly                      8760 non-null   float64       \n",
            " 16  yearly_lower                8760 non-null   float64       \n",
            " 17  yearly_upper                8760 non-null   float64       \n",
            " 18  multiplicative_terms        8760 non-null   float64       \n",
            " 19  multiplicative_terms_lower  8760 non-null   float64       \n",
            " 20  multiplicative_terms_upper  8760 non-null   float64       \n",
            " 21  yhat                        8760 non-null   float64       \n",
            " 22  test                        8760 non-null   float64       \n",
            "dtypes: datetime64[ns](1), float64(22)\n",
            "memory usage: 1.5 MB\n"
          ]
        }
      ],
      "source": [
        "forecast.info()"
      ]
    },
    {
      "cell_type": "code",
      "execution_count": null,
      "metadata": {
        "id": "pxvA1Wo8iQ2g",
        "outputId": "15a5d688-301a-46b2-fa62-4a40492a3dbb"
      },
      "outputs": [
        {
          "data": {
            "text/plain": [
              "<AxesSubplot:>"
            ]
          },
          "execution_count": 178,
          "metadata": {},
          "output_type": "execute_result"
        },
        {
          "data": {
            "image/png": "[encoded data removed]",
            "text/plain": [
              "<Figure size 1080x432 with 1 Axes>"
            ]
          },
          "metadata": {
            "needs_background": "light"
          },
          "output_type": "display_data"
        }
      ],
      "source": [
        "forecast[['test','yhat']].plot(figsize=(15,6))"
      ]
    },
    {
      "cell_type": "code",
      "execution_count": null,
      "metadata": {
        "colab": {
          "base_uri": "https://localhost:8080/",
          "height": 441
        },
        "id": "HIoTW7kP7HFd",
        "outputId": "6f145df0-fab6-41c0-ac6d-1f4210473041"
      },
      "outputs": [
        {
          "data": {
            "image/png": "[encoded data removed]",
            "text/plain": [
              "<Figure size 720x432 with 1 Axes>"
            ]
          },
          "metadata": {},
          "output_type": "display_data"
        }
      ],
      "source": [
        "# plot forecast\n",
        "model.plot(forecast)\n",
        "pyplot.show()"
      ]
    },
    {
      "cell_type": "code",
      "execution_count": null,
      "metadata": {
        "id": "MHeDA49vCXMJ"
      },
      "outputs": [],
      "source": [
        "# calculate MAE between expected and predicted values for december\n",
        "y_true = forecast['test'].values\n",
        "y_pred = forecast['yhat'].values"
      ]
    },
    {
      "cell_type": "code",
      "execution_count": null,
      "metadata": {
        "id": "stBsT3JnJ65N"
      },
      "outputs": [],
      "source": [
        "def eval(y_true,y_predicted):\n",
        "    mae = mean_absolute_error(y_true, y_predicted)\n",
        "    mse = mean_squared_error(y_true, y_predicted)\n",
        "    rmse = np.sqrt(mse)\n",
        "    mape = mean_absolute_percentage_error(y_true, y_predicted)\n",
        "    return mae,rmse,mape"
      ]
    },
    {
      "cell_type": "code",
      "execution_count": null,
      "metadata": {
        "id": "c3z6qSPniQ2k",
        "outputId": "1f5d82f7-40f3-4d05-cd4f-5df3eb5078ad"
      },
      "outputs": [
        {
          "name": "stdout",
          "output_type": "stream",
          "text": [
            "MAE = 68.35753476573893 ; RMSE = 101.01109937760327 ; MAPE = 3412563365301562.0\n"
          ]
        }
      ],
      "source": [
        "mae,rmse,mape=eval(y_true,y_pred)\n",
        "print(\"MAE = {} ; RMSE = {} ; MAPE = {}\".format(mae,rmse,mape))"
      ]
    },
    {
      "cell_type": "code",
      "execution_count": null,
      "metadata": {
        "id": "IvvP1V8XiQ2m"
      },
      "outputs": [],
      "source": []
    }
  ],
  "metadata": {
    "colab": {
      "collapsed_sections": [],
      "provenance": []
    },
    "kernelspec": {
      "display_name": "Python 3 (ipykernel)",
      "language": "python",
      "name": "python3"
    },
    "language_info": {
      "codemirror_mode": {
        "name": "ipython",
        "version": 3
      },
      "file_extension": ".py",
      "mimetype": "text/x-python",
      "name": "python",
      "nbconvert_exporter": "python",
      "pygments_lexer": "ipython3",
      "version": "3.9.12"
    }
  },
  "nbformat": 4,
  "nbformat_minor": 0
}